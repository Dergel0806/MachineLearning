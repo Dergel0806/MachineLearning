{
 "cells": [
  {
   "cell_type": "markdown",
   "metadata": {},
   "source": [
    "# <center> Gradient Descent and Logistic Regression </center>\n",
    "\n",
    "**<div align=center>Saheli Ganguly</div>** \n",
    "**<div align=center>Ihor Markevych</div>**"
   ]
  },
  {
   "cell_type": "markdown",
   "metadata": {},
   "source": [
    "### Definition of Common Functions"
   ]
  },
  {
   "cell_type": "markdown",
   "metadata": {},
   "source": [
    "We first create a few of the methods necessary to construct the logistic regression classifier. The detailed description of these methods are provided in the comments associated with each of the methods."
   ]
  },
  {
   "cell_type": "code",
   "execution_count": 1,
   "metadata": {},
   "outputs": [],
   "source": [
    "import pandas as pd\n",
    "import numpy as np\n",
    "import math\n",
    "from sklearn.metrics import roc_auc_score\n",
    "from IPython.display import display, Markdown\n",
    "import matplotlib.pyplot as plt\n",
    "import sklearn.linear_model as LM\n",
    "%matplotlib inline\n",
    "\n",
    "\n",
    "def load_dataframe_csv(filename, sep=None, header=None):\n",
    "    \"\"\"\n",
    "    loads a dataframe from a csv file\n",
    "    arguments:\n",
    "        filename: name of the .csv file\n",
    "        sep: character that separates the columns in the .csv file, default sep=None\n",
    "        header: indicates the number of rows that contain the headers, default header=None\n",
    "    returns:\n",
    "        dataframe with the contents of the .csv file\n",
    "    \"\"\"\n",
    "    if sep is None:\n",
    "        df = pd.read_csv(filename)\n",
    "    else:\n",
    "        df = pd.read_csv(filename, sep, header=header)\n",
    "\n",
    "    return df\n",
    "\n",
    "\n",
    "def sigmoid_function(x):\n",
    "    \"\"\"\n",
    "    calculates sigmoid function\n",
    "    arguments: \n",
    "        x: scalar or a numpy array\n",
    "    returns:\n",
    "        logisttic sigmoid of the input argument\n",
    "    \"\"\"\n",
    "    return 1.0 /(1.0 + np.exp(-x))\n",
    "\n",
    "\n",
    "def log_sigmoid_function(x):\n",
    "    \"\"\"\n",
    "    calculates log of sigmoid function\n",
    "    arguments: \n",
    "        x: scalar or a numpy array\n",
    "    returns:\n",
    "        log of the logistic sigmoid of the input argument\n",
    "    \"\"\"\n",
    "    return np.log(sigmoid_function(x))\n",
    "\n",
    "\n",
    "def ellp_norm(input_vec, p=1):\n",
    "    \"\"\"\n",
    "    returns the L-p norm of a vector\n",
    "    arguments:\n",
    "        input_vec: input list/array\n",
    "        p: value of p in the L-p norm formulation, default p=1\n",
    "    returns:\n",
    "        L-p norm of a vector\n",
    "    \"\"\"\n",
    "    if p == math.inf:\n",
    "        return np.max(abs(input_vec))\n",
    "    else:\n",
    "        return np.power(np.sum(np.power(abs(input_vec), p)), 1.0 / p)"
   ]
  },
  {
   "cell_type": "markdown",
   "metadata": {},
   "source": [
    "### Problem 1 (a)"
   ]
  },
  {
   "cell_type": "markdown",
   "metadata": {},
   "source": [
    "$$f(x)=x^2+6x$$\n",
    "$$\\frac{df(x)}{dx}=2x+6$$\n",
    "$$\\frac{df(x)}{dx}=0=>2x+6=0=>x=-3$$"
   ]
  },
  {
   "cell_type": "markdown",
   "metadata": {},
   "source": [
    "Therefore, the minimum value is achieved at $x^{*} = -3$, as validated by the plot below."
   ]
  },
  {
   "cell_type": "code",
   "execution_count": 2,
   "metadata": {},
   "outputs": [
    {
     "data": {
      "image/png": "[encoded data removed]",
      "text/plain": [
       "<Figure size 1080x360 with 2 Axes>"
      ]
     },
     "metadata": {
      "needs_background": "light"
     },
     "output_type": "display_data"
    }
   ],
   "source": [
    "f = lambda x: (x ** 2 + 6 * x)\n",
    "gradF = lambda x: (2 * x + 6)\n",
    "\n",
    "x = np.arange(-20, 20, 0.2)\n",
    "\n",
    "fig = plt.figure(figsize=(15, 5))\n",
    "\n",
    "plt.subplot(1, 2, 1)\n",
    "plt.plot(x, f(x), 'b-')\n",
    "plt.xlabel('$x$')\n",
    "plt.ylabel('$f(x)$')\n",
    "plt.title('$f(x) = x^2 + 6x$')\n",
    "\n",
    "plt.subplot(1, 2, 2)\n",
    "plt.plot(x, gradF(x), 'b-')\n",
    "plt.xlabel('$x$')\n",
    "plt.ylabel('grad(x)')\n",
    "plt.title('$grad(x) = 2x + 6$')\n",
    "plt.show()"
   ]
  },
  {
   "cell_type": "markdown",
   "metadata": {},
   "source": [
    "### Problem 1 (b)"
   ]
  },
  {
   "cell_type": "markdown",
   "metadata": {},
   "source": [
    "One can perform gradient descent either by providing the gradient explicitly or by computing the gradient numerically. We try both these methods and show the solution below."
   ]
  },
  {
   "cell_type": "code",
   "execution_count": 3,
   "metadata": {},
   "outputs": [],
   "source": [
    "def gradient(f, x, *args, **kwargs):\n",
    "    res = []\n",
    "    if np.array(x).shape == ():\n",
    "        h = x * 1e-10 ** (1 / 3) if x != 0 else 1e-10\n",
    "        return (f(x + h, *args, **kwargs) - f(x - h, *args, **kwargs)) / 2 / h\n",
    "    \n",
    "    x = list(x)     \n",
    "    for i, xi in enumerate(x):\n",
    "        h = xi * 1e-10 ** (1 / 3) if xi != 0 else 1e-10\n",
    "        res.append((f(np.array(x[:i] + [x[i] + h] + x[(i + 1):]), *args, **kwargs) \n",
    "                   - f(np.array(x[:i]+ [x[i] - h] + x[(i + 1):]), *args, **kwargs)) / 2 / h)\n",
    "    return np.array(res)\n",
    "\n",
    "def gradientDescent(f=None, df=None, initX=None, \n",
    "                    lr=0.1, maxIters=1e5, eps=1e-6, history=False, *args, **kwargs):\n",
    "    \n",
    "    hist=[]\n",
    "    \n",
    "    if initX is None:\n",
    "        x = np.random.uniform(-100, 100)\n",
    "    else:\n",
    "        x = initX\n",
    "    i = 0\n",
    "    \n",
    "    if df is not None:\n",
    "        grad = lambda x: df(x, *args, **kwargs)\n",
    "    elif f is not None:\n",
    "        grad = lambda x: gradient(f, x, *args, **kwargs)\n",
    "    else:\n",
    "        raise Exception('Provide either function or gradient!')\n",
    "    \n",
    "    while i < maxIters and np.linalg.norm(grad(x)) > eps:\n",
    "        i += 1\n",
    "        hist.append(x)\n",
    "        x = x - lr * grad(x)\n",
    "        \n",
    "    return (x, hist) if history else x"
   ]
  },
  {
   "cell_type": "markdown",
   "metadata": {},
   "source": [
    "#### Gradient descent with analytical form of the gradient"
   ]
  },
  {
   "cell_type": "code",
   "execution_count": 4,
   "metadata": {
    "scrolled": false
   },
   "outputs": [
    {
     "name": "stdout",
     "output_type": "stream",
     "text": [
      "minimizer: -2.9999995513864874\n"
     ]
    },
    {
     "data": {
      "image/png": "[encoded data removed]",
      "text/plain": [
       "<Figure size 432x288 with 1 Axes>"
      ]
     },
     "metadata": {
      "needs_background": "light"
     },
     "output_type": "display_data"
    }
   ],
   "source": [
    "x_star, x_seq = gradientDescent(df=gradF, initX=10, history=True)\n",
    "print(f'minimizer: {x_star}')\n",
    "\n",
    "plt.plot(range(1, len(x_seq) + 1), x_seq, 'b.-')\n",
    "plt.xlabel('# iterations')\n",
    "plt.ylabel('x')\n",
    "plt.title('gradient descent with learning rate of 0.1')\n",
    "plt.show()"
   ]
  },
  {
   "cell_type": "markdown",
   "metadata": {},
   "source": [
    "We can see that the minimum value is attained at $-3$ and hence matches with the analytical computation."
   ]
  },
  {
   "cell_type": "markdown",
   "metadata": {},
   "source": [
    "#### Gradient descent with numeric computation of the gradient"
   ]
  },
  {
   "cell_type": "code",
   "execution_count": 5,
   "metadata": {},
   "outputs": [
    {
     "data": {
      "text/plain": [
       "-2.9999995513864004"
      ]
     },
     "execution_count": 5,
     "metadata": {},
     "output_type": "execute_result"
    }
   ],
   "source": [
    "gradientDescent(f=f, initX=10)"
   ]
  },
  {
   "cell_type": "markdown",
   "metadata": {},
   "source": [
    "We can see that this answer also matches with the analytical find."
   ]
  },
  {
   "cell_type": "markdown",
   "metadata": {},
   "source": [
    "### Problem 2 (a)"
   ]
  },
  {
   "cell_type": "markdown",
   "metadata": {},
   "source": [
    "We first load the data in a dataframe. "
   ]
  },
  {
   "cell_type": "code",
   "execution_count": 6,
   "metadata": {},
   "outputs": [],
   "source": [
    "Oring_data = load_dataframe_csv('./Oring.csv')"
   ]
  },
  {
   "cell_type": "code",
   "execution_count": 7,
   "metadata": {
    "scrolled": false
   },
   "outputs": [
    {
     "data": {
      "text/html": [
       "<div>\n",
       "<style scoped>\n",
       "    .dataframe tbody tr th:only-of-type {\n",
       "        vertical-align: middle;\n",
       "    }\n",
       "\n",
       "    .dataframe tbody tr th {\n",
       "        vertical-align: top;\n",
       "    }\n",
       "\n",
       "    .dataframe thead th {\n",
       "        text-align: right;\n",
       "    }\n",
       "</style>\n",
       "<table border=\"1\" class=\"dataframe\">\n",
       "  <thead>\n",
       "    <tr style=\"text-align: right;\">\n",
       "      <th></th>\n",
       "      <th>Temp</th>\n",
       "      <th>Failure</th>\n",
       "    </tr>\n",
       "  </thead>\n",
       "  <tbody>\n",
       "    <tr>\n",
       "      <th>0</th>\n",
       "      <td>53</td>\n",
       "      <td>1</td>\n",
       "    </tr>\n",
       "    <tr>\n",
       "      <th>1</th>\n",
       "      <td>56</td>\n",
       "      <td>1</td>\n",
       "    </tr>\n",
       "    <tr>\n",
       "      <th>2</th>\n",
       "      <td>57</td>\n",
       "      <td>1</td>\n",
       "    </tr>\n",
       "    <tr>\n",
       "      <th>3</th>\n",
       "      <td>63</td>\n",
       "      <td>0</td>\n",
       "    </tr>\n",
       "    <tr>\n",
       "      <th>4</th>\n",
       "      <td>66</td>\n",
       "      <td>0</td>\n",
       "    </tr>\n",
       "    <tr>\n",
       "      <th>5</th>\n",
       "      <td>67</td>\n",
       "      <td>0</td>\n",
       "    </tr>\n",
       "    <tr>\n",
       "      <th>6</th>\n",
       "      <td>67</td>\n",
       "      <td>0</td>\n",
       "    </tr>\n",
       "    <tr>\n",
       "      <th>7</th>\n",
       "      <td>67</td>\n",
       "      <td>0</td>\n",
       "    </tr>\n",
       "    <tr>\n",
       "      <th>8</th>\n",
       "      <td>68</td>\n",
       "      <td>0</td>\n",
       "    </tr>\n",
       "    <tr>\n",
       "      <th>9</th>\n",
       "      <td>69</td>\n",
       "      <td>0</td>\n",
       "    </tr>\n",
       "    <tr>\n",
       "      <th>10</th>\n",
       "      <td>70</td>\n",
       "      <td>0</td>\n",
       "    </tr>\n",
       "    <tr>\n",
       "      <th>11</th>\n",
       "      <td>70</td>\n",
       "      <td>1</td>\n",
       "    </tr>\n",
       "    <tr>\n",
       "      <th>12</th>\n",
       "      <td>70</td>\n",
       "      <td>1</td>\n",
       "    </tr>\n",
       "    <tr>\n",
       "      <th>13</th>\n",
       "      <td>70</td>\n",
       "      <td>1</td>\n",
       "    </tr>\n",
       "    <tr>\n",
       "      <th>14</th>\n",
       "      <td>72</td>\n",
       "      <td>0</td>\n",
       "    </tr>\n",
       "    <tr>\n",
       "      <th>15</th>\n",
       "      <td>73</td>\n",
       "      <td>0</td>\n",
       "    </tr>\n",
       "    <tr>\n",
       "      <th>16</th>\n",
       "      <td>75</td>\n",
       "      <td>0</td>\n",
       "    </tr>\n",
       "    <tr>\n",
       "      <th>17</th>\n",
       "      <td>75</td>\n",
       "      <td>1</td>\n",
       "    </tr>\n",
       "    <tr>\n",
       "      <th>18</th>\n",
       "      <td>76</td>\n",
       "      <td>0</td>\n",
       "    </tr>\n",
       "    <tr>\n",
       "      <th>19</th>\n",
       "      <td>76</td>\n",
       "      <td>0</td>\n",
       "    </tr>\n",
       "    <tr>\n",
       "      <th>20</th>\n",
       "      <td>78</td>\n",
       "      <td>0</td>\n",
       "    </tr>\n",
       "    <tr>\n",
       "      <th>21</th>\n",
       "      <td>79</td>\n",
       "      <td>0</td>\n",
       "    </tr>\n",
       "    <tr>\n",
       "      <th>22</th>\n",
       "      <td>80</td>\n",
       "      <td>0</td>\n",
       "    </tr>\n",
       "    <tr>\n",
       "      <th>23</th>\n",
       "      <td>81</td>\n",
       "      <td>0</td>\n",
       "    </tr>\n",
       "  </tbody>\n",
       "</table>\n",
       "</div>"
      ],
      "text/plain": [
       "    Temp  Failure\n",
       "0     53        1\n",
       "1     56        1\n",
       "2     57        1\n",
       "3     63        0\n",
       "4     66        0\n",
       "5     67        0\n",
       "6     67        0\n",
       "7     67        0\n",
       "8     68        0\n",
       "9     69        0\n",
       "10    70        0\n",
       "11    70        1\n",
       "12    70        1\n",
       "13    70        1\n",
       "14    72        0\n",
       "15    73        0\n",
       "16    75        0\n",
       "17    75        1\n",
       "18    76        0\n",
       "19    76        0\n",
       "20    78        0\n",
       "21    79        0\n",
       "22    80        0\n",
       "23    81        0"
      ]
     },
     "execution_count": 7,
     "metadata": {},
     "output_type": "execute_result"
    }
   ],
   "source": [
    "Oring_data"
   ]
  },
  {
   "cell_type": "markdown",
   "metadata": {},
   "source": [
    "To normalize the `Temp` column, we use the following estimation of the mean and variance -- $\\hat{\\mu} = \\frac{\\sum_{n=1}^N x_n}{N}$, $\\hat{\\sigma}^2 = \\frac{\\sum_{n=1}^N (x_n -\\hat{\\mu})^2} {(N-1)}$. $N-1$ in the denominator makes estimator efficient. Commonly, $N$ is used in the denominator, as for large $N$ there is little difference between using $N$ and $(N - 1)$. In our case sample size is small, so we need to be more careful while deriving the estimator."
   ]
  },
  {
   "cell_type": "code",
   "execution_count": 8,
   "metadata": {},
   "outputs": [],
   "source": [
    "class Normalizer:\n",
    "    def fit(self, data):\n",
    "        self.mu = np.average(data)\n",
    "        self.sigma = (sum((data - self.mu) ** 2) / (len(data) - 1)) ** 0.5\n",
    "        \n",
    "    def scale(self, data):\n",
    "        return (data - self.mu) / self.sigma\n",
    "    \n",
    "    def fitAndScale(self, data):\n",
    "        self.fit(data)\n",
    "        return self.scale(data)"
   ]
  },
  {
   "cell_type": "code",
   "execution_count": 9,
   "metadata": {},
   "outputs": [],
   "source": [
    "Oring_data_scaled = pd.DataFrame(columns=['Temp', 'Failure'])\n",
    "Oring_data_scaled['Failure'] = Oring_data['Failure']\n",
    "norm = Normalizer()\n",
    "Oring_data_scaled['Temp'] = norm.fitAndScale(Oring_data['Temp'])"
   ]
  },
  {
   "cell_type": "code",
   "execution_count": 10,
   "metadata": {},
   "outputs": [],
   "source": [
    "train_data = Oring_data_scaled['Temp'].to_numpy().reshape(-1, 1)\n",
    "train_labels = Oring_data_scaled['Failure'].to_numpy().reshape(-1, 1)"
   ]
  },
  {
   "cell_type": "markdown",
   "metadata": {},
   "source": [
    "The transformed data is given as follows."
   ]
  },
  {
   "cell_type": "code",
   "execution_count": 11,
   "metadata": {
    "scrolled": false
   },
   "outputs": [
    {
     "data": {
      "text/html": [
       "<div>\n",
       "<style scoped>\n",
       "    .dataframe tbody tr th:only-of-type {\n",
       "        vertical-align: middle;\n",
       "    }\n",
       "\n",
       "    .dataframe tbody tr th {\n",
       "        vertical-align: top;\n",
       "    }\n",
       "\n",
       "    .dataframe thead th {\n",
       "        text-align: right;\n",
       "    }\n",
       "</style>\n",
       "<table border=\"1\" class=\"dataframe\">\n",
       "  <thead>\n",
       "    <tr style=\"text-align: right;\">\n",
       "      <th></th>\n",
       "      <th>Temp</th>\n",
       "      <th>Failure</th>\n",
       "    </tr>\n",
       "  </thead>\n",
       "  <tbody>\n",
       "    <tr>\n",
       "      <th>0</th>\n",
       "      <td>-2.293007</td>\n",
       "      <td>1</td>\n",
       "    </tr>\n",
       "    <tr>\n",
       "      <th>1</th>\n",
       "      <td>-1.886366</td>\n",
       "      <td>1</td>\n",
       "    </tr>\n",
       "    <tr>\n",
       "      <th>2</th>\n",
       "      <td>-1.750818</td>\n",
       "      <td>1</td>\n",
       "    </tr>\n",
       "    <tr>\n",
       "      <th>3</th>\n",
       "      <td>-0.937535</td>\n",
       "      <td>0</td>\n",
       "    </tr>\n",
       "    <tr>\n",
       "      <th>4</th>\n",
       "      <td>-0.530893</td>\n",
       "      <td>0</td>\n",
       "    </tr>\n",
       "    <tr>\n",
       "      <th>5</th>\n",
       "      <td>-0.395346</td>\n",
       "      <td>0</td>\n",
       "    </tr>\n",
       "    <tr>\n",
       "      <th>6</th>\n",
       "      <td>-0.395346</td>\n",
       "      <td>0</td>\n",
       "    </tr>\n",
       "    <tr>\n",
       "      <th>7</th>\n",
       "      <td>-0.395346</td>\n",
       "      <td>0</td>\n",
       "    </tr>\n",
       "    <tr>\n",
       "      <th>8</th>\n",
       "      <td>-0.259799</td>\n",
       "      <td>0</td>\n",
       "    </tr>\n",
       "    <tr>\n",
       "      <th>9</th>\n",
       "      <td>-0.124252</td>\n",
       "      <td>0</td>\n",
       "    </tr>\n",
       "    <tr>\n",
       "      <th>10</th>\n",
       "      <td>0.011296</td>\n",
       "      <td>0</td>\n",
       "    </tr>\n",
       "    <tr>\n",
       "      <th>11</th>\n",
       "      <td>0.011296</td>\n",
       "      <td>1</td>\n",
       "    </tr>\n",
       "    <tr>\n",
       "      <th>12</th>\n",
       "      <td>0.011296</td>\n",
       "      <td>1</td>\n",
       "    </tr>\n",
       "    <tr>\n",
       "      <th>13</th>\n",
       "      <td>0.011296</td>\n",
       "      <td>1</td>\n",
       "    </tr>\n",
       "    <tr>\n",
       "      <th>14</th>\n",
       "      <td>0.282390</td>\n",
       "      <td>0</td>\n",
       "    </tr>\n",
       "    <tr>\n",
       "      <th>15</th>\n",
       "      <td>0.417937</td>\n",
       "      <td>0</td>\n",
       "    </tr>\n",
       "    <tr>\n",
       "      <th>16</th>\n",
       "      <td>0.689032</td>\n",
       "      <td>0</td>\n",
       "    </tr>\n",
       "    <tr>\n",
       "      <th>17</th>\n",
       "      <td>0.689032</td>\n",
       "      <td>1</td>\n",
       "    </tr>\n",
       "    <tr>\n",
       "      <th>18</th>\n",
       "      <td>0.824579</td>\n",
       "      <td>0</td>\n",
       "    </tr>\n",
       "    <tr>\n",
       "      <th>19</th>\n",
       "      <td>0.824579</td>\n",
       "      <td>0</td>\n",
       "    </tr>\n",
       "    <tr>\n",
       "      <th>20</th>\n",
       "      <td>1.095673</td>\n",
       "      <td>0</td>\n",
       "    </tr>\n",
       "    <tr>\n",
       "      <th>21</th>\n",
       "      <td>1.231221</td>\n",
       "      <td>0</td>\n",
       "    </tr>\n",
       "    <tr>\n",
       "      <th>22</th>\n",
       "      <td>1.366768</td>\n",
       "      <td>0</td>\n",
       "    </tr>\n",
       "    <tr>\n",
       "      <th>23</th>\n",
       "      <td>1.502315</td>\n",
       "      <td>0</td>\n",
       "    </tr>\n",
       "  </tbody>\n",
       "</table>\n",
       "</div>"
      ],
      "text/plain": [
       "        Temp  Failure\n",
       "0  -2.293007        1\n",
       "1  -1.886366        1\n",
       "2  -1.750818        1\n",
       "3  -0.937535        0\n",
       "4  -0.530893        0\n",
       "5  -0.395346        0\n",
       "6  -0.395346        0\n",
       "7  -0.395346        0\n",
       "8  -0.259799        0\n",
       "9  -0.124252        0\n",
       "10  0.011296        0\n",
       "11  0.011296        1\n",
       "12  0.011296        1\n",
       "13  0.011296        1\n",
       "14  0.282390        0\n",
       "15  0.417937        0\n",
       "16  0.689032        0\n",
       "17  0.689032        1\n",
       "18  0.824579        0\n",
       "19  0.824579        0\n",
       "20  1.095673        0\n",
       "21  1.231221        0\n",
       "22  1.366768        0\n",
       "23  1.502315        0"
      ]
     },
     "execution_count": 11,
     "metadata": {},
     "output_type": "execute_result"
    }
   ],
   "source": [
    "Oring_data_scaled"
   ]
  },
  {
   "cell_type": "markdown",
   "metadata": {},
   "source": [
    "### Problem 2 (b)"
   ]
  },
  {
   "cell_type": "markdown",
   "metadata": {},
   "source": [
    "Given a collection of training data $(\\mathbf{x}_n, y_n)_{n=1}^{N}$, the objective function of the logistic regression model can be written as follows:\n",
    "$$J(\\mathbf{\\tilde{w}}) = -\\frac{1}{N}\\sum_{n=1}^{N} (y_n \\text{log}(h_{\\mathbf{\\tilde{w}}}(\\mathbf{x}_n)) + (1 - y_n) \\text{log}(1 - h_{\\mathbf{\\tilde{w}}}(\\mathbf{x}_n))).$$ Here $\\mathbf{x}_n \\in \\mathbb{R}^{D}$ is the $D$-dimensional feature pressentation for the $n^{\\text{th}}$ data point. $\\mathbf{w} \\in \\mathbb{R}^{D}$ is the set of coefficients corresponding to the $D$ features and $w_0$ is the bias term; together they compose $\\mathbf{\\tilde{w}} = (w_0, \\mathbf{w})$ -- the parameters of a logistic regression model that one needs to learn from the training data. Also, $h_{\\mathbf{\\tilde{w}}}(\\mathbf{x}_n) = \\sigma(w_0 + \\langle \\mathbf{w}, \\mathbf{x}_n\\rangle)$ and $\\sigma(x) = \\frac{1}{1 + \\text{exp}(-x)}$ is the logistic sigmoid function."
   ]
  },
  {
   "cell_type": "markdown",
   "metadata": {},
   "source": [
    "Note that this realization of the objective function follows directly from the maximum likelihood formulation. Given a training data $(\\mathbf{x}_n, y_n)_{n=1}^{N}$, one is interested in modeling the joint likelihood of the targets $\\{y_n\\}_{n=1}^{N}$ as:\n",
    "$$p(\\{y_n\\}_{n=1}^{N}| \\mathbf{\\tilde{w}}) = \\prod_{n=1}^{N} h_{\\mathbf{\\tilde{w}}}(\\mathbf{x}_n)^{y_n} (1 - h_{\\mathbf{\\tilde{w}}}(\\mathbf{x}_n)^{(1- y_n)}.$$ The product over all the training data points is derived from the i.i.d assumption. Since our objective is to maximize this likelihood, we can use a monotonic transformation on this likelihood, such as logarithm, without changing the maximizer. Taking logarithm of the above likelihood gives rise to the log-likehood function. Maximizing this log-likehood is equivalent to minimizing the negative of the log-likelihood, which we state in the beginning of this section (we also divide the objective function by $N$ without changing the minimizer, this aspect will be important when we introduce the regularization term next). One can also show that the objective function is convex by calculating the Hessian at any point and showing that the Hessian matrix truns out to be positive-semidefinite. "
   ]
  },
  {
   "cell_type": "markdown",
   "metadata": {},
   "source": [
    "Often one introduces an $L_2$ regularization term to prevent overfitting in a logistic regresssion model. With such regularization, the object gets slightly modified to: $$J(\\mathbf{\\tilde{w}}) = -\\frac{1}{N} \\sum_{n=1}^{N} (y_n \\text{log}(h_{\\mathbf{\\tilde{w}}}(\\mathbf{x}_n)) + (1 - y_n) \\text{log}(1 - h_{\\mathbf{\\tilde{w}}}(\\mathbf{x}_n))) + \\frac{\\lambda}{2N} ||\\mathbf{w}||_{2}^{2}$$\n",
    "where $\\lambda$ is the regularization parameter. With such modified objective, the gradient is derived as below: $$\\frac{\\partial J}{\\partial \\mathbf{\\tilde{w}}} = \\frac{1}{N}(- \\sum_{n=1}^{N} (y_n - h_{\\mathbf{\\tilde{w}}}(\\mathbf{x}_n)), (\\lambda \\mathbf{w} - \\sum_{n=1}^{N} (y_n - h_{\\mathbf{\\tilde{w}}}(\\mathbf{x}_n)) \\mathbf{x}_n)).$$"
   ]
  },
  {
   "cell_type": "markdown",
   "metadata": {},
   "source": [
    "The code below for logistic regression accepts such regularization parameter and learns the model parameters $\\mathbf{\\tilde{w}}$ corresponding to the objective above. Since the objective function is convex, the value of it decreases with every iteration of gradient descent when the learning rate $\\eta$ is set appropriately. When $\\eta$ is too high, the objective function osciallatates and no converegnce is achieved. We explicitly show these behaviors by varying the values of $\\eta$. When $\\eta$ is too low, the convergence is expectedly very slow. We analyze such behaviors in the Appendix."
   ]
  },
  {
   "cell_type": "code",
   "execution_count": 12,
   "metadata": {},
   "outputs": [],
   "source": [
    "class RegLogisticRegression:\n",
    "\n",
    "    def __init__(self, max_iters=1000, learning_rate=0.01, regularizer=1.0, precision=1e-10, useNumericalGrad=False):\n",
    "        # gradient descent specific parameters\n",
    "        self.max_iters = max_iters\n",
    "        self.learning_rate = learning_rate\n",
    "        self.precision = precision\n",
    "        self.regularizer = regularizer\n",
    "        # training data, training labels and test labels\n",
    "        self.x_train, self.y_train, self.y_pred, self.num_training = None, None, None, None\n",
    "        # model parameters\n",
    "        self.w = None\n",
    "        # variables that keep track of the parameters and cost function for all the iterations\n",
    "        self.w_epoch, self.cost_epoch = [], []\n",
    "        \n",
    "        self.useNumericalGrad=useNumericalGrad\n",
    "\n",
    "    def gradient_descent(self):\n",
    "        \"\"\"\n",
    "        gradient descent for logistic regression\n",
    "        \"\"\"\n",
    "        if self.useNumericalGrad:\n",
    "            grad = None\n",
    "        else:\n",
    "            grad = self.gradient_function\n",
    "            \n",
    "        self.w, self.w_epoch = gradientDescent(f=self.cost_function, df=grad, lr=self.learning_rate, \n",
    "                                 initX=self.w, maxIters=self.max_iters, history=True)\n",
    "        self.cost_epoch = [self.cost_function(w) for w in self.w_epoch]\n",
    "        \n",
    "\n",
    "    def gradient_function(self, w):\n",
    "        \"\"\"\n",
    "        gradient vector of logistic regression\n",
    "        \"\"\"\n",
    "        x_dot_w = np.dot(self.x_train, w[:-1]) + w[-1]\n",
    "        part_one = - np.dot(np.transpose(self.x_train), \n",
    "                            (self.y_train - sigmoid_function(x_dot_w))) + self.regularizer * w[:-1]\n",
    "        part_two = - np.sum(self.y_train - sigmoid_function(x_dot_w))\n",
    "        grad_vec_one = (1.0 / self.num_training) * part_one\n",
    "        grad_vec_two = (1.0 / self.num_training) * part_two        \n",
    "        grad_vec = np.append(grad_vec_one, [[grad_vec_two]], axis=0)\n",
    "\n",
    "        return grad_vec\n",
    "\n",
    "    def cost_function(self, w):\n",
    "        \"\"\"\n",
    "        cost function of logistic regression\n",
    "        \"\"\"\n",
    "        ones_vector = np.ones((self.num_training, 1))\n",
    "        x_dot_w = np.dot(self.x_train, w[:-1]) + w[-1]      \n",
    "\n",
    "        part_one = - np.dot(np.transpose(self.y_train), log_sigmoid_function(x_dot_w)).item()\n",
    "        part_two = - np.dot(np.transpose(ones_vector - self.y_train), \n",
    "                            np.log(ones_vector - sigmoid_function(x_dot_w))).item()\n",
    "        part_three = 0.5 * (self.regularizer * (ellp_norm(w[:-1], 2)**2)) \n",
    "        \n",
    "        obj_val = (1.0 / self.num_training) * (part_one + part_two + part_three)\n",
    "\n",
    "        return obj_val\n",
    "\n",
    "    def train(self, x_train, y_train):\n",
    "        \"\"\"\n",
    "        training process of logistic regression\n",
    "        \"\"\"\n",
    "        self.x_train = x_train\n",
    "        self.y_train = y_train\n",
    "        self.num_training = len(y_train)\n",
    "        self.w = np.ones((self.x_train.shape[1] + 1, 1))\n",
    "        self.gradient_descent()\n",
    "\n",
    "    def predict(self, x_test, y_test=None):\n",
    "        \"\"\"\n",
    "        prediction of logistic regression\n",
    "        \"\"\"\n",
    "        return sigmoid_function(np.dot(x_test, self.w[:-1]) + self.w[-1])\n",
    "\n",
    "    def show_formula(self):\n",
    "        \"\"\"\n",
    "        shows the formula of the model\n",
    "        \"\"\"\n",
    "        display(Markdown('$p(y=1|x)=\\\\frac{1}{1+e^{-(' + str(self.w.T[0][::-1]) + ', [1,x])}}$'))"
   ]
  },
  {
   "cell_type": "markdown",
   "metadata": {},
   "source": [
    "We now train two different logistic regression models -- one without regularization and the other with regularization."
   ]
  },
  {
   "cell_type": "markdown",
   "metadata": {},
   "source": [
    "#### Unregularized Logistic Regression, step-size $\\eta=0.1$,  regularization $\\lambda=0$"
   ]
  },
  {
   "cell_type": "code",
   "execution_count": 13,
   "metadata": {
    "scrolled": false
   },
   "outputs": [
    {
     "data": {
      "text/markdown": [
       "$p(y=1|x)=\\frac{1}{1+e^{-([-1.10276034 -1.26384111], [1,x])}}$"
      ],
      "text/plain": [
       "<IPython.core.display.Markdown object>"
      ]
     },
     "metadata": {},
     "output_type": "display_data"
    },
    {
     "data": {
      "image/png": "[encoded data removed]",
      "text/plain": [
       "<Figure size 432x288 with 1 Axes>"
      ]
     },
     "metadata": {
      "needs_background": "light"
     },
     "output_type": "display_data"
    }
   ],
   "source": [
    "lr_model = RegLogisticRegression(learning_rate=0.1, regularizer=0)\n",
    "lr_model.train(train_data, train_labels)\n",
    "lr_model.show_formula()\n",
    "\n",
    "plt.plot(range(1, len(lr_model.cost_epoch) + 1), lr_model.cost_epoch, 'b.-')\n",
    "plt.xlabel('# iterations')\n",
    "plt.ylabel('LR objective')\n",
    "plt.show()"
   ]
  },
  {
   "cell_type": "markdown",
   "metadata": {},
   "source": [
    "Quick check with sklearn:"
   ]
  },
  {
   "cell_type": "code",
   "execution_count": 14,
   "metadata": {},
   "outputs": [
    {
     "data": {
      "text/plain": [
       "array([[-1.10281036, -1.26391916]])"
      ]
     },
     "execution_count": 14,
     "metadata": {},
     "output_type": "execute_result"
    }
   ],
   "source": [
    "LR = LM.LogisticRegression(C=np.Inf)\n",
    "LR.fit(np.array(train_data).reshape(-1, 1), train_labels.ravel())\n",
    "np.hstack((LR.intercept_[:,None], LR.coef_))"
   ]
  },
  {
   "cell_type": "markdown",
   "metadata": {},
   "source": [
    "#### Regularized Logistic Regression, step-size $\\eta=0.1$,  regularization $\\lambda=1$"
   ]
  },
  {
   "cell_type": "code",
   "execution_count": 15,
   "metadata": {
    "scrolled": false
   },
   "outputs": [
    {
     "data": {
      "text/markdown": [
       "$p(y=1|x)=\\frac{1}{1+e^{-([-1.02631906 -0.95262762], [1,x])}}$"
      ],
      "text/plain": [
       "<IPython.core.display.Markdown object>"
      ]
     },
     "metadata": {},
     "output_type": "display_data"
    },
    {
     "data": {
      "image/png": "[encoded data removed]",
      "text/plain": [
       "<Figure size 432x288 with 1 Axes>"
      ]
     },
     "metadata": {
      "needs_background": "light"
     },
     "output_type": "display_data"
    }
   ],
   "source": [
    "lr_model_reg = RegLogisticRegression(learning_rate=0.1, regularizer=1)\n",
    "lr_model_reg.train(train_data, train_labels)\n",
    "lr_model_reg.show_formula()\n",
    "\n",
    "\n",
    "plt.plot(range(1, len(lr_model_reg.cost_epoch) + 1), lr_model_reg.cost_epoch, 'b.-')\n",
    "plt.xlabel('# iterations')\n",
    "plt.ylabel('LR objective')\n",
    "plt.show()"
   ]
  },
  {
   "cell_type": "markdown",
   "metadata": {},
   "source": [
    "Quick check with sklearn:"
   ]
  },
  {
   "cell_type": "code",
   "execution_count": 16,
   "metadata": {},
   "outputs": [
    {
     "data": {
      "text/plain": [
       "array([[-1.02632602, -0.95263306]])"
      ]
     },
     "execution_count": 16,
     "metadata": {},
     "output_type": "execute_result"
    }
   ],
   "source": [
    "LR = LM.LogisticRegression()\n",
    "LR.fit(np.array(train_data).reshape(-1, 1), train_labels.ravel())\n",
    "np.hstack((LR.intercept_[:,None], LR.coef_))"
   ]
  },
  {
   "cell_type": "markdown",
   "metadata": {},
   "source": [
    "We can see that the final values of the parameters that we learn are expectedly different between these two models."
   ]
  },
  {
   "cell_type": "markdown",
   "metadata": {},
   "source": [
    "### Problem 2 (c)"
   ]
  },
  {
   "cell_type": "markdown",
   "metadata": {},
   "source": [
    "Finally, we show the outcomes below from the above two models. The training labels are given by blue dots and the model predictions are given in red."
   ]
  },
  {
   "cell_type": "markdown",
   "metadata": {},
   "source": [
    "#### Unregularized Logistic Regression"
   ]
  },
  {
   "cell_type": "code",
   "execution_count": 17,
   "metadata": {
    "scrolled": true
   },
   "outputs": [
    {
     "data": {
      "image/png": "[encoded data removed]",
      "text/plain": [
       "<Figure size 432x288 with 1 Axes>"
      ]
     },
     "metadata": {
      "needs_background": "light"
     },
     "output_type": "display_data"
    }
   ],
   "source": [
    "plt.scatter(Oring_data['Temp'], Oring_data['Failure'])\n",
    "plt.plot(Oring_data['Temp'], lr_model.predict(train_data, train_labels), 'r.-')\n",
    "plt.xlabel('Temperature')\n",
    "plt.ylabel('Failure')\n",
    "plt.title(\"training data and prediction\")\n",
    "plt.show()"
   ]
  },
  {
   "cell_type": "markdown",
   "metadata": {},
   "source": [
    "#### Regularized Logistic Regression"
   ]
  },
  {
   "cell_type": "code",
   "execution_count": 18,
   "metadata": {
    "scrolled": true
   },
   "outputs": [
    {
     "data": {
      "image/png": "[encoded data removed]",
      "text/plain": [
       "<Figure size 432x288 with 1 Axes>"
      ]
     },
     "metadata": {
      "needs_background": "light"
     },
     "output_type": "display_data"
    }
   ],
   "source": [
    "plt.scatter(Oring_data['Temp'], Oring_data['Failure'])\n",
    "plt.plot(Oring_data['Temp'], lr_model_reg.predict(train_data, train_labels), 'r.-')\n",
    "plt.xlabel('Temperature')\n",
    "plt.ylabel('Failure')\n",
    "plt.title(\"training data and prediction\")\n",
    "plt.show()"
   ]
  },
  {
   "cell_type": "markdown",
   "metadata": {},
   "source": [
    "We can see that the prediction of both these models are quite similar. However, comparing prediction on the training data is not ideal and drawing any conclusion out of it, without an access to a held-out test set, is risky."
   ]
  },
  {
   "cell_type": "markdown",
   "metadata": {},
   "source": [
    "### Problem 2 (d)"
   ]
  },
  {
   "cell_type": "code",
   "execution_count": 19,
   "metadata": {},
   "outputs": [],
   "source": [
    "test_point = norm.scale(31).reshape(-1, 1)"
   ]
  },
  {
   "cell_type": "markdown",
   "metadata": {},
   "source": [
    "#### Unregularized Logistic Regression"
   ]
  },
  {
   "cell_type": "code",
   "execution_count": 20,
   "metadata": {},
   "outputs": [
    {
     "name": "stdout",
     "output_type": "stream",
     "text": [
      "probability of O-ring failure during the launch [[0.99618146]]\n"
     ]
    }
   ],
   "source": [
    "print(f'probability of O-ring failure during the launch {lr_model.predict(test_point)}')"
   ]
  },
  {
   "cell_type": "markdown",
   "metadata": {
    "scrolled": false
   },
   "source": [
    "#### Regularized Logistic Regression"
   ]
  },
  {
   "cell_type": "code",
   "execution_count": 21,
   "metadata": {},
   "outputs": [
    {
     "name": "stdout",
     "output_type": "stream",
     "text": [
      "probability of O-ring failure during the launch [[0.98199322]]\n"
     ]
    }
   ],
   "source": [
    "print(f'probability of O-ring failure during the launch {lr_model_reg.predict(test_point)}')"
   ]
  },
  {
   "cell_type": "markdown",
   "metadata": {},
   "source": [
    "We can see that both the models predict that the probability of failure at launch would have been close to $1$. However, drawing any conclusion of either of these models could be risky because of the small sample size. Since we do not have access to a good test set (we evaluate the model only on single test point -- the challenger failure instance), we cannot evaluate the generalization error of these models. Finally, the generalization error is also contingent on the cost of false-positive and false-negative, which we do not have much idea about here. For example, we know that the cost of a false-negative prediction is catastrophic, but we are not sure what false-positive cost we might have to bear that is associated with launch date delays, government regulations, weather conditions etc."
   ]
  },
  {
   "cell_type": "markdown",
   "metadata": {},
   "source": [
    "### Appendix A: Gradient Descent with Varying Learning Rates"
   ]
  },
  {
   "cell_type": "markdown",
   "metadata": {},
   "source": [
    "Since the method of gradient descent is quite sensitive to the learning rate, we explore the effect of the learning rate on the final solution. Our key observations are as follows:\n",
    "- If the learning rate is set too high, gradient descent does not converge.\n",
    "- If the learning rate is set appropriatly, gradient descent converges quickly.\n",
    "- If the learning rate is set to a very small value, the convergence is very slow."
   ]
  },
  {
   "cell_type": "code",
   "execution_count": 22,
   "metadata": {},
   "outputs": [
    {
     "data": {
      "image/png": "[encoded data removed]",
      "text/plain": [
       "<Figure size 1080x360 with 3 Axes>"
      ]
     },
     "metadata": {
      "needs_background": "light"
     },
     "output_type": "display_data"
    }
   ],
   "source": [
    "fig = plt.figure(figsize=(15, 5))\n",
    "\n",
    "plt.suptitle('gradient descent with varying learning rates')\n",
    "plt.subplot(3, 1, 1)\n",
    "\n",
    "x_star, x_seq = gradientDescent(df=gradF, initX=10, maxIters=100, lr=1, history=True)\n",
    "plt.plot(range(1, len(x_seq) + 1), x_seq, 'b.-')\n",
    "plt.title('learning rate of 1, oscillation')\n",
    "plt.xlabel('# iterations')\n",
    "plt.ylabel('x')\n",
    "\n",
    "plt.subplot(3, 1, 2)\n",
    "x_star, x_seq = gradientDescent(df=gradF, initX=10, maxIters=100, lr=0.1, history=True)\n",
    "plt.plot(range(1, len(x_seq) + 1), x_seq, 'b.-')\n",
    "plt.title('learning rate of 0.1, fast convergence')\n",
    "plt.xlabel('# iterations')\n",
    "plt.ylabel('x')\n",
    "\n",
    "plt.subplot(3, 1, 3)\n",
    "x_star, x_seq = gradientDescent(df=gradF, initX=10, maxIters=100, lr=0.01, history=True)\n",
    "plt.plot(range(1, len(x_seq) + 1), x_seq, 'b.-')\n",
    "plt.title('learning rate of 0.01, slow convergence')\n",
    "plt.xlabel('# iterations')\n",
    "plt.ylabel('x')\n",
    "\n",
    "plt.show()"
   ]
  },
  {
   "cell_type": "markdown",
   "metadata": {},
   "source": [
    "### Appendix B: Logistic Regression with Varying Learning Rates"
   ]
  },
  {
   "cell_type": "markdown",
   "metadata": {},
   "source": [
    "We also demonstrate the same behavior from the logistic regression model by varying the learning rate."
   ]
  },
  {
   "cell_type": "code",
   "execution_count": 23,
   "metadata": {},
   "outputs": [
    {
     "data": {
      "image/png": "[encoded data removed]",
      "text/plain": [
       "<Figure size 1080x360 with 3 Axes>"
      ]
     },
     "metadata": {
      "needs_background": "light"
     },
     "output_type": "display_data"
    }
   ],
   "source": [
    "fig = plt.figure(figsize=(15, 5))\n",
    "\n",
    "plt.suptitle('logistic regression with varying learning rates')\n",
    "\n",
    "plt.subplot(1, 3, 1)\n",
    "\n",
    "lr_model_one = RegLogisticRegression(max_iters=100, learning_rate=20, regularizer=1.0)\n",
    "lr_model_one.train(train_data, train_labels)\n",
    "plt.plot(range(1, len(lr_model_one.cost_epoch) + 1), lr_model_one.cost_epoch, 'b.-')\n",
    "plt.title('learning rate of 20, oscillation')\n",
    "plt.xlabel('# iterations')\n",
    "plt.ylabel('LR objective')\n",
    "\n",
    "plt.subplot(1, 3, 2)\n",
    "lr_model_two = RegLogisticRegression(max_iters=400, learning_rate=0.1, regularizer=1.0)\n",
    "lr_model_two.train(train_data, train_labels)\n",
    "plt.plot(range(1, len(lr_model_two.cost_epoch) + 1), lr_model_two.cost_epoch, 'b.-')\n",
    "plt.title('learning rate of 0.1, fast convergence')\n",
    "plt.xlabel('# iterations')\n",
    "plt.ylabel('LR objective')\n",
    "\n",
    "plt.subplot(1, 3, 3)\n",
    "lr_model_three = RegLogisticRegression(max_iters=400, learning_rate=0.01, regularizer=1.0)\n",
    "lr_model_three.train(train_data, train_labels)\n",
    "plt.plot(range(1, len(lr_model_three.cost_epoch) + 1), lr_model_three.cost_epoch, 'b.-')\n",
    "plt.title('learning rate of 0.01, slow convergence')\n",
    "plt.xlabel('# iterations')\n",
    "plt.ylabel('LR objective')\n",
    "\n",
    "plt.show()"
   ]
  },
  {
   "cell_type": "markdown",
   "metadata": {},
   "source": [
    "Note that one can get rid of the problem of tuning the learning rate if a second order method is used for optimization. Such method is a bit more compute-heavy, for the calculation of the Hessian, but regardless comes in handy when the number of features is not too large. Note that the second order methods need to calculate the inverse of the Hessian matrix, whose computation cost scales as $O(D^3)$, where $D$ is the number of features in the data."
   ]
  },
  {
   "cell_type": "markdown",
   "metadata": {},
   "source": [
    "### Appendix C: Logistic Regression with Numerical Computation of Gradient"
   ]
  },
  {
   "cell_type": "code",
   "execution_count": 24,
   "metadata": {},
   "outputs": [
    {
     "data": {
      "text/markdown": [
       "$p(y=1|x)=\\frac{1}{1+e^{-([-1.10276037 -1.26384118], [1,x])}}$"
      ],
      "text/plain": [
       "<IPython.core.display.Markdown object>"
      ]
     },
     "metadata": {},
     "output_type": "display_data"
    }
   ],
   "source": [
    "lr_model = RegLogisticRegression(learning_rate=0.1, regularizer=0, useNumericalGrad=True)\n",
    "lr_model.train(train_data, train_labels)\n",
    "lr_model.show_formula()"
   ]
  },
  {
   "cell_type": "code",
   "execution_count": 25,
   "metadata": {},
   "outputs": [
    {
     "data": {
      "text/markdown": [
       "$p(y=1|x)=\\frac{1}{1+e^{-([-1.02631908 -0.95262765], [1,x])}}$"
      ],
      "text/plain": [
       "<IPython.core.display.Markdown object>"
      ]
     },
     "metadata": {},
     "output_type": "display_data"
    }
   ],
   "source": [
    "lr_model_reg = RegLogisticRegression(learning_rate=0.1, regularizer=1, useNumericalGrad=True)\n",
    "lr_model_reg.train(train_data, train_labels)\n",
    "lr_model_reg.show_formula()"
   ]
  },
  {
   "cell_type": "markdown",
   "metadata": {},
   "source": [
    "As it can be seen, results obtained with numerical computation of gradient match results obtained with analytical form of gradient. However, as it is more computationly intense, analytical form is prefered."
   ]
  },
  {
   "cell_type": "code",
   "execution_count": null,
   "metadata": {},
   "outputs": [],
   "source": []
  }
 ],
 "metadata": {
  "kernelspec": {
   "display_name": "Python 3",
   "language": "python",
   "name": "python3"
  },
  "language_info": {
   "codemirror_mode": {
    "name": "ipython",
    "version": 3
   },
   "file_extension": ".py",
   "mimetype": "text/x-python",
   "name": "python",
   "nbconvert_exporter": "python",
   "pygments_lexer": "ipython3",
   "version": "3.7.3"
  }
 },
 "nbformat": 4,
 "nbformat_minor": 4
}
