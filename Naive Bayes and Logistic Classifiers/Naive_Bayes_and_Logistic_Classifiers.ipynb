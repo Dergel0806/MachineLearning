{
 "cells": [
  {
   "cell_type": "markdown",
   "metadata": {},
   "source": [
    "# <center> Naive Bayes and Logistic Classifiers </center>\n",
    "### <div align=right> Made by:</div>\n",
    "**<div align=right>Saheli Ganguly</div>** \n",
    "**<div align=right>Ihor Markevych</div>**"
   ]
  },
  {
   "cell_type": "code",
   "execution_count": 1,
   "metadata": {},
   "outputs": [],
   "source": [
    "import numpy as np\n",
    "import sklearn.linear_model as LM\n",
    "import matplotlib.pyplot as plt\n",
    "import pandas as pd\n",
    "from IPython.display import display, Markdown"
   ]
  },
  {
   "cell_type": "markdown",
   "metadata": {},
   "source": [
    "## Problem 1"
   ]
  },
  {
   "cell_type": "markdown",
   "metadata": {},
   "source": [
    "### (a)  \n",
    "  \n",
    "$$f(x)=x^2+6x$$\n",
    "$$\\frac{df(x)}{dx}=2x+6$$\n",
    "$$\\frac{df(x)}{dx}=0=>2x+6=0=>x^*=-3$$"
   ]
  },
  {
   "cell_type": "markdown",
   "metadata": {},
   "source": [
    "### (b)"
   ]
  },
  {
   "cell_type": "markdown",
   "metadata": {},
   "source": [
    "One can perform gradient descent either by providing the gradient explicitly or by computing the gradient numerically. We try both these methods and show the solution below."
   ]
  },
  {
   "cell_type": "code",
   "execution_count": 2,
   "metadata": {},
   "outputs": [],
   "source": [
    "def gradient(f, x, *args, **kwargs):\n",
    "    res = []\n",
    "    if np.array(x).shape == ():\n",
    "        h = x * 1e-10 ** (1 / 3) if x != 0 else 1e-10\n",
    "        return (f(x + h, *args, **kwargs) - f(x - h, *args, **kwargs)) / 2 / h\n",
    "    \n",
    "    x = list(x)     \n",
    "    for i, xi in enumerate(x):\n",
    "        h = xi * 1e-10 ** (1 / 3) if xi != 0 else 1e-10\n",
    "        res.append((f(np.array(x[:i] + [x[i] + h] + x[(i + 1):]), *args, **kwargs) \n",
    "                   - f(np.array(x[:i]+ [x[i] - h] + x[(i + 1):]), *args, **kwargs)) / 2 / h)\n",
    "    return np.array(res)\n",
    "\n",
    "def gradientDescent(f=None, df=None, initX=None, \n",
    "                    lr=0.1, maxIters=1e5, eps=1e-6, *args, **kwargs):\n",
    "    if initX is None:\n",
    "        x = np.random.uniform(-100, 100)\n",
    "    else:\n",
    "        x = initX\n",
    "    i = 0\n",
    "    \n",
    "    if df is not None:\n",
    "        grad = lambda x: df(x, *args, **kwargs)\n",
    "    elif f is not None:\n",
    "        grad = lambda x: gradient(f, x, *args, **kwargs)\n",
    "    else:\n",
    "        raise Exception('Provide either function or gradient!')\n",
    "    \n",
    "    while i < maxIters and np.linalg.norm(grad(x)) > eps:\n",
    "        i += 1\n",
    "        x = x - lr * grad(x)\n",
    "    return x"
   ]
  },
  {
   "cell_type": "code",
   "execution_count": 3,
   "metadata": {},
   "outputs": [
    {
     "name": "stdout",
     "output_type": "stream",
     "text": [
      "Result for a gradient descent with numerical computation of gradient: -3.0000004703769636.\n",
      "Result for a gradient descent with analytical computation of gradient: -3.00000047111901.\n"
     ]
    }
   ],
   "source": [
    "def f(x):\n",
    "    return x ** 2 + 6 * x\n",
    "\n",
    "def df(x):\n",
    "    return 2*x + 6\n",
    "\n",
    "print(f'Result for a gradient descent with numerical computation of gradient: {gradientDescent(f=f)}.')\n",
    "print(f'Result for a gradient descent with analytical computation of gradient: {gradientDescent(df=df)}.')"
   ]
  },
  {
   "cell_type": "markdown",
   "metadata": {},
   "source": [
    "As it can be seen, both methods give results that are same up to precision $\\epsilon$."
   ]
  },
  {
   "cell_type": "markdown",
   "metadata": {},
   "source": [
    "## Problem 2"
   ]
  },
  {
   "cell_type": "code",
   "execution_count": 4,
   "metadata": {},
   "outputs": [],
   "source": [
    "data = pd.read_csv('Oring.csv')"
   ]
  },
  {
   "cell_type": "markdown",
   "metadata": {},
   "source": [
    "Original data:"
   ]
  },
  {
   "cell_type": "code",
   "execution_count": 5,
   "metadata": {},
   "outputs": [
    {
     "data": {
      "text/html": [
       "<div>\n",
       "<style scoped>\n",
       "    .dataframe tbody tr th:only-of-type {\n",
       "        vertical-align: middle;\n",
       "    }\n",
       "\n",
       "    .dataframe tbody tr th {\n",
       "        vertical-align: top;\n",
       "    }\n",
       "\n",
       "    .dataframe thead th {\n",
       "        text-align: right;\n",
       "    }\n",
       "</style>\n",
       "<table border=\"1\" class=\"dataframe\">\n",
       "  <thead>\n",
       "    <tr style=\"text-align: right;\">\n",
       "      <th></th>\n",
       "      <th>Temp</th>\n",
       "      <th>Failure</th>\n",
       "    </tr>\n",
       "  </thead>\n",
       "  <tbody>\n",
       "    <tr>\n",
       "      <th>0</th>\n",
       "      <td>53</td>\n",
       "      <td>1</td>\n",
       "    </tr>\n",
       "    <tr>\n",
       "      <th>1</th>\n",
       "      <td>56</td>\n",
       "      <td>1</td>\n",
       "    </tr>\n",
       "    <tr>\n",
       "      <th>2</th>\n",
       "      <td>57</td>\n",
       "      <td>1</td>\n",
       "    </tr>\n",
       "    <tr>\n",
       "      <th>3</th>\n",
       "      <td>63</td>\n",
       "      <td>0</td>\n",
       "    </tr>\n",
       "    <tr>\n",
       "      <th>4</th>\n",
       "      <td>66</td>\n",
       "      <td>0</td>\n",
       "    </tr>\n",
       "    <tr>\n",
       "      <th>5</th>\n",
       "      <td>67</td>\n",
       "      <td>0</td>\n",
       "    </tr>\n",
       "    <tr>\n",
       "      <th>6</th>\n",
       "      <td>67</td>\n",
       "      <td>0</td>\n",
       "    </tr>\n",
       "    <tr>\n",
       "      <th>7</th>\n",
       "      <td>67</td>\n",
       "      <td>0</td>\n",
       "    </tr>\n",
       "    <tr>\n",
       "      <th>8</th>\n",
       "      <td>68</td>\n",
       "      <td>0</td>\n",
       "    </tr>\n",
       "    <tr>\n",
       "      <th>9</th>\n",
       "      <td>69</td>\n",
       "      <td>0</td>\n",
       "    </tr>\n",
       "    <tr>\n",
       "      <th>10</th>\n",
       "      <td>70</td>\n",
       "      <td>0</td>\n",
       "    </tr>\n",
       "    <tr>\n",
       "      <th>11</th>\n",
       "      <td>70</td>\n",
       "      <td>1</td>\n",
       "    </tr>\n",
       "    <tr>\n",
       "      <th>12</th>\n",
       "      <td>70</td>\n",
       "      <td>1</td>\n",
       "    </tr>\n",
       "    <tr>\n",
       "      <th>13</th>\n",
       "      <td>70</td>\n",
       "      <td>1</td>\n",
       "    </tr>\n",
       "    <tr>\n",
       "      <th>14</th>\n",
       "      <td>72</td>\n",
       "      <td>0</td>\n",
       "    </tr>\n",
       "    <tr>\n",
       "      <th>15</th>\n",
       "      <td>73</td>\n",
       "      <td>0</td>\n",
       "    </tr>\n",
       "    <tr>\n",
       "      <th>16</th>\n",
       "      <td>75</td>\n",
       "      <td>0</td>\n",
       "    </tr>\n",
       "    <tr>\n",
       "      <th>17</th>\n",
       "      <td>75</td>\n",
       "      <td>1</td>\n",
       "    </tr>\n",
       "    <tr>\n",
       "      <th>18</th>\n",
       "      <td>76</td>\n",
       "      <td>0</td>\n",
       "    </tr>\n",
       "    <tr>\n",
       "      <th>19</th>\n",
       "      <td>76</td>\n",
       "      <td>0</td>\n",
       "    </tr>\n",
       "    <tr>\n",
       "      <th>20</th>\n",
       "      <td>78</td>\n",
       "      <td>0</td>\n",
       "    </tr>\n",
       "    <tr>\n",
       "      <th>21</th>\n",
       "      <td>79</td>\n",
       "      <td>0</td>\n",
       "    </tr>\n",
       "    <tr>\n",
       "      <th>22</th>\n",
       "      <td>80</td>\n",
       "      <td>0</td>\n",
       "    </tr>\n",
       "    <tr>\n",
       "      <th>23</th>\n",
       "      <td>81</td>\n",
       "      <td>0</td>\n",
       "    </tr>\n",
       "  </tbody>\n",
       "</table>\n",
       "</div>"
      ],
      "text/plain": [
       "    Temp  Failure\n",
       "0     53        1\n",
       "1     56        1\n",
       "2     57        1\n",
       "3     63        0\n",
       "4     66        0\n",
       "5     67        0\n",
       "6     67        0\n",
       "7     67        0\n",
       "8     68        0\n",
       "9     69        0\n",
       "10    70        0\n",
       "11    70        1\n",
       "12    70        1\n",
       "13    70        1\n",
       "14    72        0\n",
       "15    73        0\n",
       "16    75        0\n",
       "17    75        1\n",
       "18    76        0\n",
       "19    76        0\n",
       "20    78        0\n",
       "21    79        0\n",
       "22    80        0\n",
       "23    81        0"
      ]
     },
     "execution_count": 5,
     "metadata": {},
     "output_type": "execute_result"
    }
   ],
   "source": [
    "data"
   ]
  },
  {
   "cell_type": "markdown",
   "metadata": {},
   "source": [
    "Note: in the following implementation the next formulas were used:  \n",
    "$\\mu = \\frac{\\sum_{i=1}^N x}{N}$  \n",
    "$\\sigma = \\sqrt{\\frac{\\sum_{i=1}^N (x-\\mu)^2} {N-1}}$  \n",
    "Commonly, for $\\sigma$ estimator $\\sqrt{\\frac{\\sum_{i=1}^N (x-\\mu)^2} {N}}$ is used. However, to make statistical estimation not only unbiased, but also efficient, we have used $N-1$. Usually there is no significant difference between those estimates because of big sample size, but in our case sample size is small and estimations vary."
   ]
  },
  {
   "cell_type": "code",
   "execution_count": 6,
   "metadata": {},
   "outputs": [],
   "source": [
    "class Normalizer:\n",
    "    def fit(self, data):\n",
    "        self.mu = np.average(data)\n",
    "        self.sigma = (sum((data - self.mu) ** 2) / (len(data) - 1)) ** 0.5\n",
    "        \n",
    "    def scale(self, data):\n",
    "        return (data - self.mu) / self.sigma\n",
    "    \n",
    "    def fitAndScale(self, data):\n",
    "        self.fit(data)\n",
    "        return self.scale(data)"
   ]
  },
  {
   "cell_type": "code",
   "execution_count": 7,
   "metadata": {},
   "outputs": [],
   "source": [
    "norm = Normalizer()\n",
    "trainX = norm.fitAndScale(data['Temp'])\n",
    "trainY = data['Failure']"
   ]
  },
  {
   "cell_type": "markdown",
   "metadata": {},
   "source": [
    "Transformed data:"
   ]
  },
  {
   "cell_type": "code",
   "execution_count": 8,
   "metadata": {},
   "outputs": [
    {
     "data": {
      "text/plain": [
       "0    -2.293007\n",
       "1    -1.886366\n",
       "2    -1.750818\n",
       "3    -0.937535\n",
       "4    -0.530893\n",
       "5    -0.395346\n",
       "6    -0.395346\n",
       "7    -0.395346\n",
       "8    -0.259799\n",
       "9    -0.124252\n",
       "10    0.011296\n",
       "11    0.011296\n",
       "12    0.011296\n",
       "13    0.011296\n",
       "14    0.282390\n",
       "15    0.417937\n",
       "16    0.689032\n",
       "17    0.689032\n",
       "18    0.824579\n",
       "19    0.824579\n",
       "20    1.095673\n",
       "21    1.231221\n",
       "22    1.366768\n",
       "23    1.502315\n",
       "Name: Temp, dtype: float64"
      ]
     },
     "execution_count": 8,
     "metadata": {},
     "output_type": "execute_result"
    }
   ],
   "source": [
    "trainX"
   ]
  },
  {
   "cell_type": "markdown",
   "metadata": {},
   "source": [
    "Given a collection of training data $(\\mathbf{x}_n, y_n)_{n=1}^{N}$, the objective function of the logistic regression model can be written as follows:\n",
    "$$J(\\mathbf{\\tilde{w}}) = -\\frac{1}{N}\\sum_{n=1}^{N} (y_n \\text{log}(h_{\\mathbf{\\tilde{w}}}(\\mathbf{x}_n)) + (1 - y_n) \\text{log}(1 - h_{\\mathbf{\\tilde{w}}}(\\mathbf{x}_n))).$$ Here $\\mathbf{x}_n \\in \\mathbb{R}^{D}$ is the $D$-dimensional feature pressentation for the $n^{\\text{th}}$ data point. $\\mathbf{w} \\in \\mathbb{R}^{D}$ is the set of coefficients corresponding to the $D$ features and $w_0$ is the bias term; together they compose $\\mathbf{\\tilde{w}} = (w_0, \\mathbf{w})$ -- the parameters of a logistic regression model that one needs to learn from the training data. Also, $h_{\\mathbf{\\tilde{w}}}(\\mathbf{x}_n) = \\sigma(w_0 + \\langle \\mathbf{w}, \\mathbf{x}_n\\rangle)$ and $\\sigma(x) = \\frac{1}{1 + e^{-x}}$ is the logistic sigmoid function."
   ]
  },
  {
   "cell_type": "markdown",
   "metadata": {},
   "source": [
    "Note that this realization of the objective function follows directly from the maximum likelihood formulation. Given a training data $(\\mathbf{x}_n, y_n)_{n=1}^{N}$, one is interested in modeling the joint likelihood of the targets $\\{y_n\\}_{n=1}^{N}$ as:\n",
    "$$p(\\{y_n\\}_{n=1}^{N}| \\mathbf{\\tilde{w}}) = \\prod_{n=1}^{N} h_{\\mathbf{\\tilde{w}}}(\\mathbf{x}_n)*{y_n} (1 - h_{\\mathbf{\\tilde{w}}}(\\mathbf{x}_n)*{(1- y_n)}.$$ The product over all the training data points is derived from the i.i.d assumption. Since our objective is to maximize this likelihood, we can use a monotonic transformation on this likelihood, such as logarithm, without changing the maximizer. Taking logarithm of the above likelihood gives rise to the log-likehood function. Maximizing this log-likehood is equivalent to minimizing the negative of the log-likelihood, which we state in the beginning of this section (we also divide the objective function by $N$ without changing the minimizer, this aspect will be important when we introduce the regularization term next). One can also show that the objective function is convex by calculating the Hessian at any point and showing that the Hessian matrix truns out to be positive-semidefinite. "
   ]
  },
  {
   "cell_type": "markdown",
   "metadata": {},
   "source": [
    "Often regularization term is introduced to prevent overfitting. With such regularization, the objective gets slightly modified to $J(\\mathbf{w}) = -\\frac{1}{N} \\sum_{n=1}^{N} (y_n \\text{log}(h_{\\mathbf{w}}(\\mathbf{x}_n)) + (1 - y_n) \\text{log}(1 - h_{\\mathbf{w}}(\\mathbf{x}_n))) + \\frac{\\lambda}{2N} ||\\mathbf{w}[1:]||_{2}^{2}$, where $\\lambda$ is the regularization parameter. Note: $w_0$, bias term, is not included in regularization term.  \n",
    "  \n",
    "With such modified objective, the gradient is derived as below: \n",
    "$$\\frac{\\partial J}{\\partial \\tilde{w}_j} = \\frac{1}{N}((\\lambda {w}_j + \\sum_{n=1}^{N} (h_{\\tilde{w}_j}(\\mathbf{x}_n) - y_n) \\mathbf{x}_n), j=1,N$$   \n",
    "$$\\frac{\\partial J}{\\partial \\tilde{w}_0} = \\frac{1}{N}(\\sum_{n=1}^{N} (h_{\\tilde{w}_0}(\\mathbf{x}_n) - y_n) \\mathbf{x}_n$$\n",
    "  \n",
    "Since the objective function is convex, the value of it decreases with every iteration of gradient descent when the learning rate is set appropriately. When learning rate is too high, gradient of the objective function starts to osciallatate and no convergence is achieved."
   ]
  },
  {
   "cell_type": "code",
   "execution_count": 9,
   "metadata": {},
   "outputs": [],
   "source": [
    "class LogisticRegression:\n",
    "        \n",
    "    @staticmethod\n",
    "    def sigmoid(weights, X):\n",
    "        \"\"\"\n",
    "        sigmoid (logistic) function (vectorized)\n",
    "        \"\"\"\n",
    "        if isinstance(X, int) or isinstance(X, float):\n",
    "            X = np.array([X])\n",
    "        else:\n",
    "            X = np.array(X)\n",
    "        X = np.insert(X[:, None], 0, 1, axis=1)\n",
    "        return 1 / (1 + np.exp(- X @ weights))\n",
    "    \n",
    "    @staticmethod\n",
    "    def objectiveFunction(weights, X, y, regularizationCoefficient=1):\n",
    "        \"\"\"\n",
    "        cost function of logistic regression\n",
    "        \"\"\"\n",
    "        return sum(- y * np.log(LogisticRegression.sigmoid(weights, X)) \n",
    "                   - (1 - y) * np.log(1 - LogisticRegression.sigmoid(weights, X))) / len(X) \\\n",
    "                + np.linalg.norm(weights[1:]) ** 2 * regularizationCoefficient / 2 / len(X)    \n",
    "    \n",
    "    def __init__(self, regularizationCoefficient=0, \n",
    "                 learningRate = 0.1, maxIters=1000, precision=1e-10):\n",
    "        \n",
    "        self.lr = learningRate\n",
    "        self.maxIters = maxIters\n",
    "        self.precision = precision\n",
    "        self.regularizationCoefficient = regularizationCoefficient\n",
    "    \n",
    "    def fit(self, X):\n",
    "        \"\"\"\n",
    "        initialize weights to zero\n",
    "        \"\"\"\n",
    "        self.w = np.zeros(np.array(X).reshape(-1,1).shape[1] + 1)\n",
    "    \n",
    "    def train(self, X, y):\n",
    "        \"\"\"\n",
    "        training process of logistic regression\n",
    "        \"\"\"\n",
    "        self.fit(X)\n",
    "            \n",
    "        self.w = gradientDescent(f=LogisticRegression.objectiveFunction,\n",
    "                                 lr=self.lr, initX=self.w, \n",
    "                                 maxIters=self.maxIters, eps=self.precision,\n",
    "                                 X=X, y=y, regularizationCoefficient=self.regularizationCoefficient)\n",
    "        \n",
    "    def predictProb(self, X):\n",
    "        \"\"\"\n",
    "        predict probability\n",
    "        \"\"\"\n",
    "        return self.sigmoid(self.w, X)\n",
    "    \n",
    "    def predict(self, X):\n",
    "        \"\"\"\n",
    "        predict label\n",
    "        \"\"\"\n",
    "        return int(self.predictProb(X) > 0.5)\n",
    "    \n",
    "    def showFormula(self):\n",
    "        \"\"\"\n",
    "        show explicit formula of created model\n",
    "        \"\"\"\n",
    "        display(Markdown('$p(y=1|x)=\\\\frac{1}{1+e^{(' + str(self.w) + ', x)}}$'))"
   ]
  },
  {
   "cell_type": "markdown",
   "metadata": {},
   "source": [
    "### Unregularized Logistic Regression"
   ]
  },
  {
   "cell_type": "code",
   "execution_count": 10,
   "metadata": {},
   "outputs": [
    {
     "data": {
      "text/markdown": [
       "$p(y=1|x)=\\frac{1}{1+e^{([-1.10277317 -1.26386114], x)}}$"
      ],
      "text/plain": [
       "<IPython.core.display.Markdown object>"
      ]
     },
     "metadata": {},
     "output_type": "display_data"
    }
   ],
   "source": [
    "logR = LogisticRegression(regularizationCoefficient=0)\n",
    "logR.train(trainX, trainY)\n",
    "logR.showFormula()"
   ]
  },
  {
   "cell_type": "markdown",
   "metadata": {},
   "source": [
    "Quick check:"
   ]
  },
  {
   "cell_type": "code",
   "execution_count": 11,
   "metadata": {},
   "outputs": [
    {
     "data": {
      "text/plain": [
       "array([[-1.10281036, -1.26391916]])"
      ]
     },
     "execution_count": 11,
     "metadata": {},
     "output_type": "execute_result"
    }
   ],
   "source": [
    "LR = LM.LogisticRegression(C=np.Inf)\n",
    "LR.fit(np.array(trainX).reshape(-1, 1), trainY)\n",
    "np.hstack((LR.intercept_[:,None], LR.coef_))"
   ]
  },
  {
   "cell_type": "code",
   "execution_count": 12,
   "metadata": {
    "scrolled": true
   },
   "outputs": [
    {
     "name": "stdout",
     "output_type": "stream",
     "text": [
      "Model predicted failure with probability 0.9961818095018504.\n"
     ]
    }
   ],
   "source": [
    "print(f\"Model predicted {'failure' if logR.predict(norm.scale(31)) == 1 else 'no failure'} with probability {logR.predictProb(norm.scale(31))[0]}.\")"
   ]
  },
  {
   "cell_type": "code",
   "execution_count": 13,
   "metadata": {},
   "outputs": [
    {
     "data": {
      "image/png": "[encoded data removed]",
      "text/plain": [
       "<Figure size 432x288 with 1 Axes>"
      ]
     },
     "metadata": {
      "needs_background": "light"
     },
     "output_type": "display_data"
    }
   ],
   "source": [
    "plt.scatter(data['Temp'], data['Failure'])\n",
    "plt.xlabel('Temperature')\n",
    "plt.ylabel('Failure')\n",
    "plt.plot(data['Temp'], logR.predictProb(trainX))\n",
    "plt.show()"
   ]
  },
  {
   "cell_type": "markdown",
   "metadata": {},
   "source": [
    "### Regularized Logistic Regression with $\\lambda=1$"
   ]
  },
  {
   "cell_type": "code",
   "execution_count": 14,
   "metadata": {},
   "outputs": [
    {
     "data": {
      "text/markdown": [
       "$p(y=1|x)=\\frac{1}{1+e^{([-1.02632426 -0.95263152], x)}}$"
      ],
      "text/plain": [
       "<IPython.core.display.Markdown object>"
      ]
     },
     "metadata": {},
     "output_type": "display_data"
    }
   ],
   "source": [
    "logR = LogisticRegression(regularizationCoefficient=1)\n",
    "logR.train(trainX, trainY)\n",
    "logR.showFormula()"
   ]
  },
  {
   "cell_type": "markdown",
   "metadata": {},
   "source": [
    "Quick check:"
   ]
  },
  {
   "cell_type": "code",
   "execution_count": 15,
   "metadata": {},
   "outputs": [
    {
     "data": {
      "text/plain": [
       "array([[-1.02632602, -0.95263306]])"
      ]
     },
     "execution_count": 15,
     "metadata": {},
     "output_type": "execute_result"
    }
   ],
   "source": [
    "LR = LM.LogisticRegression()\n",
    "LR.fit(np.array(trainX).reshape(-1, 1), trainY)\n",
    "np.hstack((LR.intercept_[:,None], LR.coef_))"
   ]
  },
  {
   "cell_type": "code",
   "execution_count": 16,
   "metadata": {},
   "outputs": [
    {
     "name": "stdout",
     "output_type": "stream",
     "text": [
      "Model predicted failure with probability 0.9819934910104956.\n"
     ]
    }
   ],
   "source": [
    "print(f\"Model predicted {'failure' if logR.predict(norm.scale(31)) == 1 else 'no failure'} with probability {logR.predictProb(norm.scale(31))[0]}.\")"
   ]
  },
  {
   "cell_type": "code",
   "execution_count": 17,
   "metadata": {},
   "outputs": [
    {
     "data": {
      "image/png": "[encoded data removed]",
      "text/plain": [
       "<Figure size 432x288 with 1 Axes>"
      ]
     },
     "metadata": {
      "needs_background": "light"
     },
     "output_type": "display_data"
    }
   ],
   "source": [
    "plt.scatter(data['Temp'], data['Failure'])\n",
    "plt.xlabel('Temperature')\n",
    "plt.ylabel('Failure')\n",
    "plt.plot(data['Temp'], logR.predictProb(trainX))\n",
    "plt.show()"
   ]
  },
  {
   "cell_type": "markdown",
   "metadata": {},
   "source": [
    "### Results discussion"
   ]
  },
  {
   "cell_type": "markdown",
   "metadata": {},
   "source": [
    "We can see that both the models predict that the probability of failure at launch would have been close to $1$. However, drawing any conclusion of either of these models could be risky because of the small sample size. Since we do not have access to a good test set (we evaluate the model only on single test point -- the challenger failure instance), we cannot evaluate the generalization error of these models. Finally, the generalization error is also contingent on the cost of false-positive and false-negative, which we do not have much idea about here. For example, we know that the cost of a false-negative prediction is catastrophic, but we are not sure what false-positive cost we might have to bear that is associated with launch date delays, government regulations, weather conditions etc."
   ]
  },
  {
   "cell_type": "markdown",
   "metadata": {},
   "source": [
    "# Appendix"
   ]
  },
  {
   "cell_type": "markdown",
   "metadata": {},
   "source": [
    "### Comparing different learning rates"
   ]
  },
  {
   "cell_type": "code",
   "execution_count": 18,
   "metadata": {},
   "outputs": [],
   "source": [
    "def gradientDescentWithHist(f, initX = None, \n",
    "                    lr=0.1, maxIters=1e5, eps=1e-6, *args, **kwargs):\n",
    "    histX = []\n",
    "    if initX is None:\n",
    "        x = np.random.uniform(-100, 100)\n",
    "    else:\n",
    "        x = initX\n",
    "    i = 0\n",
    "    while i < maxIters and np.linalg.norm(gradient(f, x, *args, **kwargs)) > eps:\n",
    "        i += 1\n",
    "        histX.append(x)\n",
    "        x = x - lr * gradient(f, x, *args, **kwargs)\n",
    "    return x, histX"
   ]
  },
  {
   "cell_type": "markdown",
   "metadata": {},
   "source": [
    "In the following cell we will demonstrate effects of different learning rates:\n",
    "- if learning rate is set too high, method will not converge;\n",
    "- if learning rate is set appropriatly, method will converge quickly;\n",
    "- if learning rate is set too small, method will converge, but slow."
   ]
  },
  {
   "cell_type": "code",
   "execution_count": 19,
   "metadata": {},
   "outputs": [
    {
     "data": {
      "image/png": "[encoded data removed]",
      "text/plain": [
       "<Figure size 432x288 with 3 Axes>"
      ]
     },
     "metadata": {
      "needs_background": "light"
     },
     "output_type": "display_data"
    }
   ],
   "source": [
    "fig = plt.figure()\n",
    "\n",
    "plt.suptitle('Comparison of effect of different learning rates:')\n",
    "\n",
    "plt.subplot(3, 1, 1)\n",
    "plt.title('Learning rate of 1, oscilation')\n",
    "plt.xlabel('iteration')\n",
    "plt.ylabel('x')\n",
    "histX = gradientDescentWithHist(f, initX = 0, lr=1, maxIters=100)[1]\n",
    "plt.plot([x for x in range(len(histX))], histX)\n",
    "\n",
    "plt.subplot(3, 1, 2)\n",
    "plt.title('Learning rate of 0.1, fast convergence')\n",
    "plt.xlabel('iteration')\n",
    "plt.ylabel('x')\n",
    "histX = gradientDescentWithHist(f, initX = 0, lr=0.1, maxIters=100)[1]\n",
    "plt.plot([x for x in range(len(histX))], histX)\n",
    "\n",
    "plt.subplot(3, 1, 3)\n",
    "plt.title('Learning rate of 0.01, slow convergence')\n",
    "plt.xlabel('iteration')\n",
    "plt.ylabel('x')\n",
    "histX = gradientDescentWithHist(f, initX = 0, lr=0.01, maxIters=100)[1]\n",
    "plt.plot([x for x in range(len(histX))], histX)\n",
    "\n",
    "fig.tight_layout(pad=2.0)\n",
    "plt.show()"
   ]
  }
 ],
 "metadata": {
  "kernelspec": {
   "display_name": "Python 3",
   "language": "python",
   "name": "python3"
  },
  "language_info": {
   "codemirror_mode": {
    "name": "ipython",
    "version": 3
   },
   "file_extension": ".py",
   "mimetype": "text/x-python",
   "name": "python",
   "nbconvert_exporter": "python",
   "pygments_lexer": "ipython3",
   "version": "3.7.3"
  }
 },
 "nbformat": 4,
 "nbformat_minor": 4
}
